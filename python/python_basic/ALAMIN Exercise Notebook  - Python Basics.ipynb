{
 "cells": [
  {
   "cell_type": "markdown",
   "id": "identified-species",
   "metadata": {
    "slideshow": {
     "slide_type": "skip"
    }
   },
   "source": [
    "Copyright © 2020 Selangor Human Resource Development Center. All Rights Reserved."
   ]
  },
  {
   "cell_type": "markdown",
   "id": "proof-blake",
   "metadata": {},
   "source": [
    "# Data Types and Variables"
   ]
  },
  {
   "cell_type": "markdown",
   "id": "limited-short",
   "metadata": {},
   "source": [
    "1. Store a message in a variable, then print that message. Then change the value of your variable to a new message, and print the new message."
   ]
  },
  {
   "cell_type": "code",
   "execution_count": 27,
   "id": "dated-government",
   "metadata": {},
   "outputs": [
    {
     "name": "stdout",
     "output_type": "stream",
     "text": [
      "My first Python learning\n"
     ]
    }
   ],
   "source": [
    "msg = \"My first Python learning\"\n",
    "print(msg)"
   ]
  },
  {
   "cell_type": "markdown",
   "id": "surrounded-amendment",
   "metadata": {},
   "source": [
    "2. Use built-in input function to prompt a number to be typed and store it inside a variable. Print the variable"
   ]
  },
  {
   "cell_type": "code",
   "execution_count": 28,
   "id": "returning-actor",
   "metadata": {},
   "outputs": [
    {
     "name": "stdout",
     "output_type": "stream",
     "text": [
      "\n"
     ]
    }
   ],
   "source": [
    "number = input(\"Enter a Number:\")\n",
    "print(number)\n",
    "\n"
   ]
  },
  {
   "cell_type": "markdown",
   "id": "operational-stuart",
   "metadata": {},
   "source": [
    "## Numbers"
   ]
  },
  {
   "cell_type": "markdown",
   "id": "aging-collar",
   "metadata": {},
   "source": [
    "1. Write addition, subtraction, multiplication, and division operations that each result in the number 8. Be sure to enclose your operations in print statements to see the results. You should create four lines that look like this:\n",
    "\n",
    "            print(5 + 3)"
   ]
  },
  {
   "cell_type": "code",
   "execution_count": 37,
   "id": "finnish-spanking",
   "metadata": {},
   "outputs": [
    {
     "name": "stdout",
     "output_type": "stream",
     "text": [
      "8\n",
      "8\n",
      "8\n"
     ]
    }
   ],
   "source": [
    "print(4+4)\n",
    "print(10-2)\n",
    "print(2*4)"
   ]
  },
  {
   "cell_type": "code",
   "execution_count": 40,
   "id": "electronic-russia",
   "metadata": {},
   "outputs": [
    {
     "name": "stdout",
     "output_type": "stream",
     "text": [
      "8\n",
      "8\n",
      "8\n"
     ]
    }
   ],
   "source": [
    "print(1*8)\n",
    "print(int(16/2))\n",
    "print(24//3)"
   ]
  },
  {
   "cell_type": "markdown",
   "id": "environmental-virus",
   "metadata": {},
   "source": [
    "2. Store a number in a variable. Then, using that variable, create a message that reveals that number. Print that message."
   ]
  },
  {
   "cell_type": "code",
   "execution_count": 41,
   "id": "graphic-medicaid",
   "metadata": {},
   "outputs": [
    {
     "name": "stdout",
     "output_type": "stream",
     "text": [
      "the variable in y is 5\n"
     ]
    }
   ],
   "source": [
    "y=5\n",
    "print(\"the variable in y is\",y)"
   ]
  },
  {
   "cell_type": "markdown",
   "id": "advanced-instrumentation",
   "metadata": {},
   "source": [
    "## Strings"
   ]
  },
  {
   "cell_type": "markdown",
   "id": "sorted-status",
   "metadata": {},
   "source": [
    "1. Use len method to print the length of the string. (Use \"Hello World\" as string)"
   ]
  },
  {
   "cell_type": "code",
   "execution_count": 44,
   "id": "expressed-league",
   "metadata": {},
   "outputs": [
    {
     "data": {
      "text/plain": [
       "11"
      ]
     },
     "execution_count": 44,
     "metadata": {},
     "output_type": "execute_result"
    }
   ],
   "source": [
    "tempstr=\"Hello World\"\n",
    "len(tempstr)"
   ]
  },
  {
   "cell_type": "markdown",
   "id": "configured-closure",
   "metadata": {},
   "source": [
    "2. Get the first character of the string 'Hello World'"
   ]
  },
  {
   "cell_type": "code",
   "execution_count": 45,
   "id": "amber-lotus",
   "metadata": {},
   "outputs": [
    {
     "data": {
      "text/plain": [
       "'H'"
      ]
     },
     "execution_count": 45,
     "metadata": {},
     "output_type": "execute_result"
    }
   ],
   "source": [
    "tempstr[0]"
   ]
  },
  {
   "cell_type": "markdown",
   "id": "enabling-allocation",
   "metadata": {},
   "source": [
    "3. Get the characters from index 2 to index 4 of the same string"
   ]
  },
  {
   "cell_type": "code",
   "execution_count": 51,
   "id": "prepared-facing",
   "metadata": {},
   "outputs": [
    {
     "data": {
      "text/plain": [
       "'l'"
      ]
     },
     "execution_count": 51,
     "metadata": {},
     "output_type": "execute_result"
    }
   ],
   "source": [
    "tempstr[2-4]"
   ]
  },
  {
   "cell_type": "markdown",
   "id": "occupied-cherry",
   "metadata": {},
   "source": [
    "4. Return the string without any whitespace at the beginning or the end."
   ]
  },
  {
   "cell_type": "code",
   "execution_count": 52,
   "id": "velvet-actor",
   "metadata": {},
   "outputs": [
    {
     "name": "stdout",
     "output_type": "stream",
     "text": [
      "    Hello World   \n",
      "Hello World\n"
     ]
    }
   ],
   "source": [
    "no_spaces_tmp = \"    Hello World   \"\n",
    "print(no_spaces_tmp)\n",
    "print(no_spaces_tmp.strip())"
   ]
  },
  {
   "cell_type": "markdown",
   "id": "divine-threat",
   "metadata": {},
   "source": [
    "5. Convert the value of txt to upper case"
   ]
  },
  {
   "cell_type": "code",
   "execution_count": 57,
   "id": "minor-return",
   "metadata": {},
   "outputs": [
    {
     "data": {
      "text/plain": [
       "'HELLO'"
      ]
     },
     "execution_count": 57,
     "metadata": {},
     "output_type": "execute_result"
    }
   ],
   "source": [
    "s=\"hellO\"\n",
    "s.upper()"
   ]
  },
  {
   "cell_type": "markdown",
   "id": "directed-entrepreneur",
   "metadata": {},
   "source": [
    "6. Convert the value of txt to lower case"
   ]
  },
  {
   "cell_type": "code",
   "execution_count": 58,
   "id": "center-projection",
   "metadata": {},
   "outputs": [
    {
     "data": {
      "text/plain": [
       "'hello'"
      ]
     },
     "execution_count": 58,
     "metadata": {},
     "output_type": "execute_result"
    }
   ],
   "source": [
    "s.lower()"
   ]
  },
  {
   "cell_type": "markdown",
   "id": "turkish-navigator",
   "metadata": {},
   "source": [
    "7. Replace the character 'H' with a 'J'"
   ]
  },
  {
   "cell_type": "code",
   "execution_count": 59,
   "id": "configured-feature",
   "metadata": {},
   "outputs": [
    {
     "data": {
      "text/plain": [
       "'jellO'"
      ]
     },
     "execution_count": 59,
     "metadata": {},
     "output_type": "execute_result"
    }
   ],
   "source": [
    "s.replace(\"h\", \"j\")"
   ]
  },
  {
   "cell_type": "markdown",
   "id": "known-playlist",
   "metadata": {},
   "source": [
    "8. Insert the correct syntax to add a placeholder for the age parameter.\n",
    "\n",
    "            age = 36\n",
    "            txt = \"My name is John, and I am __\" # Use placeholder for the age parameter\n",
    "            print(txt.format(age))"
   ]
  },
  {
   "cell_type": "code",
   "execution_count": 60,
   "id": "going-exposure",
   "metadata": {},
   "outputs": [
    {
     "name": "stdout",
     "output_type": "stream",
     "text": [
      "my name is John and I am 36\n"
     ]
    }
   ],
   "source": [
    "age=36\n",
    "\n",
    "txt = \"my name is John and I am {}\" #Use placeholder for the age parameter\n",
    "print(txt.format(age))"
   ]
  },
  {
   "cell_type": "markdown",
   "id": "explicit-stage",
   "metadata": {},
   "source": [
    "## Lists"
   ]
  },
  {
   "cell_type": "markdown",
   "id": "accepting-chess",
   "metadata": {},
   "source": [
    "1. Print the second item in the fruits list.\n",
    "\n",
    "                fruits = ['apple', 'banana', 'cherry']"
   ]
  },
  {
   "cell_type": "code",
   "execution_count": 61,
   "id": "olive-highway",
   "metadata": {},
   "outputs": [
    {
     "data": {
      "text/plain": [
       "'banana'"
      ]
     },
     "execution_count": 61,
     "metadata": {},
     "output_type": "execute_result"
    }
   ],
   "source": [
    "fruits=['apple', 'banana', 'cherry']\n",
    "fruits[1]"
   ]
  },
  {
   "cell_type": "markdown",
   "id": "coral-taiwan",
   "metadata": {},
   "source": [
    "2. Change the value from \"apple\" to \"kiwi\", in the fruits list."
   ]
  },
  {
   "cell_type": "code",
   "execution_count": 62,
   "id": "mexican-salvation",
   "metadata": {},
   "outputs": [
    {
     "name": "stdout",
     "output_type": "stream",
     "text": [
      "['kiwi', 'banana', 'cherry']\n"
     ]
    }
   ],
   "source": [
    "fruits[0]=\"kiwi\"\n",
    "print(fruits)"
   ]
  },
  {
   "cell_type": "markdown",
   "id": "parental-publicity",
   "metadata": {},
   "source": [
    "3. Use the append method to add \"orange\" to the fruits list."
   ]
  },
  {
   "cell_type": "code",
   "execution_count": 63,
   "id": "photographic-occasion",
   "metadata": {},
   "outputs": [
    {
     "name": "stdout",
     "output_type": "stream",
     "text": [
      "['kiwi', 'banana', 'cherry', 'orange']\n"
     ]
    }
   ],
   "source": [
    "fruits.append(\"orange\")\n",
    "print(fruits)"
   ]
  },
  {
   "cell_type": "markdown",
   "id": "leading-leonard",
   "metadata": {},
   "source": [
    "4. Use the insert method to add \"lemon\" as the second item in the fruits list."
   ]
  },
  {
   "cell_type": "code",
   "execution_count": 69,
   "id": "american-homeless",
   "metadata": {},
   "outputs": [
    {
     "name": "stdout",
     "output_type": "stream",
     "text": [
      "['lemon', 'lemon', 'kiwi', 'lemon', 'lemon', 'banana', 'cherry', 'orange']\n"
     ]
    }
   ],
   "source": [
    "fruits.insert(1,\"lemon\")\n",
    "print(fruits)"
   ]
  },
  {
   "cell_type": "markdown",
   "id": "everyday-configuration",
   "metadata": {},
   "source": [
    "5. Use remove method to remove 'banana' from the fruits list."
   ]
  },
  {
   "cell_type": "code",
   "execution_count": 73,
   "id": "atlantic-falls",
   "metadata": {},
   "outputs": [
    {
     "name": "stdout",
     "output_type": "stream",
     "text": [
      "['kiwi', 'lemon', 'cherry', 'orange']\n"
     ]
    }
   ],
   "source": [
    "fruits.remove(\"banana\")\n",
    "print(fruits)"
   ]
  },
  {
   "cell_type": "markdown",
   "id": "direct-anthropology",
   "metadata": {},
   "source": [
    "6. Use negative indexing to print the last item in the list."
   ]
  },
  {
   "cell_type": "code",
   "execution_count": 74,
   "id": "right-winter",
   "metadata": {},
   "outputs": [
    {
     "name": "stdout",
     "output_type": "stream",
     "text": [
      "orange\n"
     ]
    }
   ],
   "source": [
    "print(fruits[-1])"
   ]
  },
  {
   "cell_type": "markdown",
   "id": "impressed-revolution",
   "metadata": {},
   "source": [
    "7. Use a range of indexes to print the third, fourth, and fifth item in the list.\n",
    "\n",
    "                fruits = [\"apple\", \"banana\", \"cherry\", \"orange\", \"kiwi\", \"melon\", \"mango\"]"
   ]
  },
  {
   "cell_type": "code",
   "execution_count": 76,
   "id": "automated-ethernet",
   "metadata": {},
   "outputs": [
    {
     "name": "stdout",
     "output_type": "stream",
     "text": [
      "['cherry', 'orange', 'kiwi', 'melon']\n"
     ]
    }
   ],
   "source": [
    "fruits=[\"apple\", \"banana\", \"cherry\", \"orange\", \"kiwi\", \"melon\", \"mango\"]\n",
    "print(fruits[2:6])"
   ]
  },
  {
   "cell_type": "markdown",
   "id": "antique-measure",
   "metadata": {},
   "source": [
    "8. Use the correct syntax to print the number of items in the list."
   ]
  },
  {
   "cell_type": "code",
   "execution_count": 77,
   "id": "graduate-mailman",
   "metadata": {
    "scrolled": false
   },
   "outputs": [
    {
     "name": "stdout",
     "output_type": "stream",
     "text": [
      "7\n"
     ]
    }
   ],
   "source": [
    "print(len(fruits))"
   ]
  },
  {
   "cell_type": "markdown",
   "id": "optimum-tsunami",
   "metadata": {},
   "source": [
    "## Dictionaries"
   ]
  },
  {
   "cell_type": "markdown",
   "id": "prescription-thesaurus",
   "metadata": {},
   "source": [
    "1. Use get method to print the value of the 'model' key of the car dictionary.\n",
    "\n",
    "                car =\t{\n",
    "                  \"brand\": \"Ford\",\n",
    "                  \"model\": \"Mustang\",\n",
    "                  \"year\": 1964\n",
    "                }"
   ]
  },
  {
   "cell_type": "code",
   "execution_count": 110,
   "id": "moral-resident",
   "metadata": {},
   "outputs": [
    {
     "name": "stdout",
     "output_type": "stream",
     "text": [
      "Mustang\n"
     ]
    }
   ],
   "source": [
    "car =\t{\n",
    "                  \"brand\": \"Ford\",\n",
    "                  \"model\": \"Mustang\",\n",
    "                  \"year\": 1964\n",
    "                }\n",
    "                \n",
    "print(car.get(\"model\"))"
   ]
  },
  {
   "cell_type": "markdown",
   "id": "introductory-orlando",
   "metadata": {},
   "source": [
    "2. Change the \"year\" value from 1964 to 2020."
   ]
  },
  {
   "cell_type": "code",
   "execution_count": 118,
   "id": "abstract-acceptance",
   "metadata": {},
   "outputs": [
    {
     "name": "stdout",
     "output_type": "stream",
     "text": [
      "{'brand': 'Ford', 'model': 'Mustang', 'year': 2020}\n"
     ]
    }
   ],
   "source": [
    "car[\"year\"]=2020\n",
    "print(car)"
   ]
  },
  {
   "cell_type": "markdown",
   "id": "chinese-hollow",
   "metadata": {},
   "source": [
    "3. Add key/value pair 'color': 'red' to the car dictionary"
   ]
  },
  {
   "cell_type": "code",
   "execution_count": 119,
   "id": "stock-alert",
   "metadata": {},
   "outputs": [
    {
     "name": "stdout",
     "output_type": "stream",
     "text": [
      "{'brand': 'Ford', 'model': 'Mustang', 'year': 2020, 'Color': 'RED'}\n"
     ]
    }
   ],
   "source": [
    "car[\"Color\"]=\"RED\"\n",
    "print(car)"
   ]
  },
  {
   "cell_type": "markdown",
   "id": "curious-transsexual",
   "metadata": {},
   "source": [
    "4. Use the pop method to remove 'model' from the car dictionary"
   ]
  },
  {
   "cell_type": "code",
   "execution_count": 124,
   "id": "statutory-violin",
   "metadata": {},
   "outputs": [
    {
     "name": "stdout",
     "output_type": "stream",
     "text": [
      "{'brand': 'Ford', 'year': 2020, 'Color': 'RED'}\n"
     ]
    }
   ],
   "source": [
    "car.pop(\"model\")\n",
    "print(car)"
   ]
  },
  {
   "cell_type": "markdown",
   "id": "manufactured-butterfly",
   "metadata": {},
   "source": [
    "5. Use the clear method to empty the car dictionary."
   ]
  },
  {
   "cell_type": "code",
   "execution_count": null,
   "id": "individual-picking",
   "metadata": {},
   "outputs": [],
   "source": [
    "car.clear()"
   ]
  },
  {
   "cell_type": "markdown",
   "id": "loose-combine",
   "metadata": {},
   "source": [
    "## Tuples"
   ]
  },
  {
   "cell_type": "markdown",
   "id": "informed-giving",
   "metadata": {},
   "source": [
    "1. Use the correct syntax to print the first item in the fruits tuple.\n",
    "    \n",
    "                fruits = ('apple', 'banana', 'cherry')"
   ]
  },
  {
   "cell_type": "code",
   "execution_count": 125,
   "id": "starting-america",
   "metadata": {},
   "outputs": [
    {
     "name": "stdout",
     "output_type": "stream",
     "text": [
      "apple\n"
     ]
    }
   ],
   "source": [
    "fruits = (\"apple\", \"banana\", \"cherry\")\n",
    "print(fruits[0])"
   ]
  },
  {
   "cell_type": "markdown",
   "id": "weighted-queue",
   "metadata": {},
   "source": [
    "2. Use the correct syntax to print the number of items in the fruits tuple."
   ]
  },
  {
   "cell_type": "code",
   "execution_count": 126,
   "id": "progressive-reply",
   "metadata": {},
   "outputs": [
    {
     "name": "stdout",
     "output_type": "stream",
     "text": [
      "3\n"
     ]
    }
   ],
   "source": [
    "print(len(fruits))"
   ]
  },
  {
   "cell_type": "markdown",
   "id": "reflected-ceiling",
   "metadata": {},
   "source": [
    "3. Use negative indexing to print the last item in the tuple."
   ]
  },
  {
   "cell_type": "code",
   "execution_count": 127,
   "id": "defined-treasury",
   "metadata": {},
   "outputs": [
    {
     "name": "stdout",
     "output_type": "stream",
     "text": [
      "cherry\n"
     ]
    }
   ],
   "source": [
    "print(fruits[-1])"
   ]
  },
  {
   "cell_type": "markdown",
   "id": "greek-grove",
   "metadata": {},
   "source": [
    "## Datatype conversion"
   ]
  },
  {
   "cell_type": "markdown",
   "id": "religious-mumbai",
   "metadata": {},
   "source": [
    "1. Convert number 5 to a floating point number"
   ]
  },
  {
   "cell_type": "code",
   "execution_count": 129,
   "id": "behind-letter",
   "metadata": {},
   "outputs": [
    {
     "data": {
      "text/plain": [
       "5.0"
      ]
     },
     "execution_count": 129,
     "metadata": {},
     "output_type": "execute_result"
    }
   ],
   "source": [
    "float(5)"
   ]
  },
  {
   "cell_type": "markdown",
   "id": "extra-arthritis",
   "metadata": {},
   "source": [
    "2. Convert 5.5 to integer"
   ]
  },
  {
   "cell_type": "code",
   "execution_count": 131,
   "id": "special-champion",
   "metadata": {},
   "outputs": [
    {
     "name": "stdout",
     "output_type": "stream",
     "text": [
      "5\n"
     ]
    }
   ],
   "source": [
    "x=5.5\n",
    "x=int(x)\n",
    "print (x)"
   ]
  },
  {
   "cell_type": "markdown",
   "id": "progressive-warren",
   "metadata": {},
   "source": [
    "3. Convert number 5 into a complex number"
   ]
  },
  {
   "cell_type": "code",
   "execution_count": 132,
   "id": "confirmed-bankruptcy",
   "metadata": {},
   "outputs": [
    {
     "name": "stdout",
     "output_type": "stream",
     "text": [
      "(5+0j)\n"
     ]
    }
   ],
   "source": [
    "print(complex(5))"
   ]
  },
  {
   "cell_type": "markdown",
   "id": "jewish-scanner",
   "metadata": {},
   "source": [
    "# Control Statements"
   ]
  },
  {
   "cell_type": "markdown",
   "id": "endangered-birmingham",
   "metadata": {},
   "source": [
    "1. Print 'Big' if a is greater than b.\n",
    "\n",
    "                a = 50\n",
    "                b = 10"
   ]
  },
  {
   "cell_type": "code",
   "execution_count": 29,
   "id": "dress-methodology",
   "metadata": {},
   "outputs": [
    {
     "name": "stdout",
     "output_type": "stream",
     "text": [
      "big\n"
     ]
    }
   ],
   "source": [
    "a=50\n",
    "b=10\n",
    "if a>b:\n",
    "    print(\"big\")"
   ]
  },
  {
   "cell_type": "markdown",
   "id": "computational-morris",
   "metadata": {},
   "source": [
    "2. Print 'Not Equal' if a is not equal to b."
   ]
  },
  {
   "cell_type": "code",
   "execution_count": 30,
   "id": "automotive-shirt",
   "metadata": {},
   "outputs": [
    {
     "name": "stdout",
     "output_type": "stream",
     "text": [
      "Not equal\n"
     ]
    }
   ],
   "source": [
    "if a!=b:\n",
    "    print(\"Not equal\")"
   ]
  },
  {
   "cell_type": "markdown",
   "id": "accessible-brisbane",
   "metadata": {},
   "source": [
    "3. Print \"Equal\" if a is equal to b, otherwise print \"Not Equal\""
   ]
  },
  {
   "cell_type": "code",
   "execution_count": 31,
   "id": "perfect-learning",
   "metadata": {},
   "outputs": [],
   "source": [
    "if a==b:\n",
    "    print(\"Equal\")"
   ]
  },
  {
   "cell_type": "markdown",
   "id": "sporting-antarctica",
   "metadata": {},
   "source": [
    "4. Print \"1\" if a is equal to b, print \"2\" if a is greater than b, otherwise print \"3\"."
   ]
  },
  {
   "cell_type": "code",
   "execution_count": 32,
   "id": "assumed-warren",
   "metadata": {},
   "outputs": [
    {
     "name": "stdout",
     "output_type": "stream",
     "text": [
      "2\n"
     ]
    }
   ],
   "source": [
    "if a==b:\n",
    "    print(1)\n",
    "elif a>b:\n",
    "    print(2)\n",
    "else:\n",
    "    print(3)"
   ]
  },
  {
   "cell_type": "markdown",
   "id": "active-justice",
   "metadata": {},
   "source": [
    "5. Print \"Hello\" if a is equal to b, and c is equal to d.\n",
    "\n",
    "                c = 5\n",
    "                d = 15"
   ]
  },
  {
   "cell_type": "code",
   "execution_count": 33,
   "id": "demanding-debut",
   "metadata": {},
   "outputs": [],
   "source": [
    "if(a==b) and (c==d):\n",
    "    print(\"Hello\")"
   ]
  },
  {
   "cell_type": "markdown",
   "id": "broke-palmer",
   "metadata": {},
   "source": [
    "6. Print \"Hello\" if a is equal to b, or if c is equal to d."
   ]
  },
  {
   "cell_type": "code",
   "execution_count": 34,
   "id": "broad-frost",
   "metadata": {},
   "outputs": [
    {
     "name": "stdout",
     "output_type": "stream",
     "text": [
      "Hello\n"
     ]
    }
   ],
   "source": [
    "c=5\n",
    "d=15\n",
    "if(a==b) or (c!=d):\n",
    "    print(\"Hello\")"
   ]
  },
  {
   "cell_type": "markdown",
   "id": "745e8906",
   "metadata": {},
   "source": [
    "7. Use the correct short hand syntax to write the following conditional expression in one line:\n",
    "\n",
    "if 5>2:\n",
    "    print(\"Yes\")\n",
    "else:\n",
    "    print(\"No\")"
   ]
  },
  {
   "cell_type": "code",
   "execution_count": 23,
   "metadata": {},
   "outputs": [
    {
     "name": "stdout",
     "output_type": "stream",
     "text": [
      "Yes\n"
     ]
    }
   ],
   "source": [
    "print(\"Yes\") if 5>2 else print(\"No\")"
   ]
  },
  {
   "cell_type": "markdown",
   "id": "filled-twist",
   "metadata": {},
   "source": [
    "# Functions"
   ]
  },
  {
   "cell_type": "markdown",
   "id": "junior-tiger",
   "metadata": {},
   "source": [
    "1. Create a function named my_function to print 'Hello from a function' when called"
   ]
  },
  {
   "cell_type": "code",
   "execution_count": 25,
   "id": "political-wound",
   "metadata": {},
   "outputs": [],
   "source": [
    "def my_function():\n",
    "    print(\"Hello from a function\")"
   ]
  },
  {
   "cell_type": "markdown",
   "id": "sought-native",
   "metadata": {},
   "source": [
    "2. Execute a function named my_function.\n",
    "\n",
    "                def my_function():\n",
    "                  print(\"Hello from a function\")"
   ]
  },
  {
   "cell_type": "code",
   "execution_count": 26,
   "id": "confirmed-coaching",
   "metadata": {},
   "outputs": [
    {
     "name": "stdout",
     "output_type": "stream",
     "text": [
      "Hello from a function\n"
     ]
    }
   ],
   "source": [
    "my_function()"
   ]
  },
  {
   "cell_type": "markdown",
   "id": "oriented-evidence",
   "metadata": {},
   "source": [
    "3. Let the function return the x parameter + 5.                "
   ]
  },
  {
   "cell_type": "code",
   "execution_count": 35,
   "id": "arctic-flash",
   "metadata": {},
   "outputs": [
    {
     "name": "stdout",
     "output_type": "stream",
     "text": [
      "20\n"
     ]
    }
   ],
   "source": [
    "def my_function(x):\n",
    "    return x+5\n",
    "\n",
    "result =my_function(15)\n",
    "print(result)"
   ]
  },
  {
   "cell_type": "markdown",
   "id": "minimal-conditioning",
   "metadata": {},
   "source": [
    "## Lambda"
   ]
  },
  {
   "cell_type": "markdown",
   "id": "industrial-style",
   "metadata": {},
   "source": [
    "1. Create a lambda function that takes one parameter a and returns it"
   ]
  },
  {
   "cell_type": "code",
   "execution_count": 36,
   "id": "noted-reality",
   "metadata": {},
   "outputs": [],
   "source": [
    "x=lambda a:a"
   ]
  },
  {
   "cell_type": "markdown",
   "id": "unauthorized-stick",
   "metadata": {},
   "source": [
    "# Loops"
   ]
  },
  {
   "cell_type": "markdown",
   "id": "conscious-length",
   "metadata": {},
   "source": [
    "### For Loops"
   ]
  },
  {
   "cell_type": "markdown",
   "id": "seeing-memorial",
   "metadata": {},
   "source": [
    "1. Loop through the items in the fruits list and print each item\n",
    "\n",
    "                fruits = ['apple', 'banana', 'cherry']"
   ]
  },
  {
   "cell_type": "code",
   "execution_count": 80,
   "id": "front-missile",
   "metadata": {},
   "outputs": [
    {
     "name": "stdout",
     "output_type": "stream",
     "text": [
      "apple\n",
      "banana\n",
      "cherry\n"
     ]
    }
   ],
   "source": [
    "fruits_list =['apple', 'banana', 'cherry']\n",
    "for i in fruits_list:\n",
    "    print(i)\n"
   ]
  },
  {
   "cell_type": "markdown",
   "id": "seventh-lecture",
   "metadata": {},
   "source": [
    "2. In the loop, when item value is 'banana', jump directly to the next item."
   ]
  },
  {
   "cell_type": "code",
   "execution_count": 87,
   "id": "proud-respect",
   "metadata": {},
   "outputs": [],
   "source": [
    "for x in fruits:\n",
    "    if x ==\"banana\":\n",
    "        continue\n",
    "        print(f)"
   ]
  },
  {
   "cell_type": "markdown",
   "id": "bizarre-wallace",
   "metadata": {},
   "source": [
    "3. Use the range function to loop through a code set 6 times"
   ]
  },
  {
   "cell_type": "code",
   "execution_count": 86,
   "id": "f332e16e",
   "metadata": {},
   "outputs": [
    {
     "name": "stdout",
     "output_type": "stream",
     "text": [
      "0\n",
      "1\n",
      "2\n",
      "3\n",
      "4\n",
      "5\n"
     ]
    }
   ],
   "source": [
    "for x in range(6):\n",
    "    print(x)"
   ]
  },
  {
   "cell_type": "code",
   "execution_count": 85,
   "id": "comprehensive-viking",
   "metadata": {},
   "outputs": [
    {
     "name": "stdout",
     "output_type": "stream",
     "text": [
      "1\n",
      "2\n",
      "3\n",
      "4\n",
      "5\n",
      "6\n"
     ]
    }
   ],
   "source": [
    "x=0\n",
    "while x<6:\n",
    "    x=x+1\n",
    "    print(x)\n",
    "    "
   ]
  },
  {
   "cell_type": "markdown",
   "id": "immune-drawing",
   "metadata": {},
   "source": [
    "### While Loops"
   ]
  },
  {
   "cell_type": "markdown",
   "id": "strategic-wrist",
   "metadata": {},
   "source": [
    "1. Print i as long as i is less than 6."
   ]
  },
  {
   "cell_type": "code",
   "execution_count": 88,
   "id": "resistant-favor",
   "metadata": {},
   "outputs": [
    {
     "name": "stdout",
     "output_type": "stream",
     "text": [
      "0\n",
      "1\n",
      "2\n",
      "3\n",
      "4\n",
      "5\n"
     ]
    }
   ],
   "source": [
    "i=0\n",
    "while i<6:\n",
    "    print(i)\n",
    "    i+=1"
   ]
  },
  {
   "cell_type": "markdown",
   "id": "fixed-suite",
   "metadata": {},
   "source": [
    "2. Stop the loop if i is 3"
   ]
  },
  {
   "cell_type": "code",
   "execution_count": 93,
   "id": "previous-masters",
   "metadata": {},
   "outputs": [
    {
     "name": "stdout",
     "output_type": "stream",
     "text": [
      "0\n",
      "1\n",
      "2\n"
     ]
    }
   ],
   "source": [
    "i=0\n",
    "while i<10:\n",
    "    if i==3:\n",
    "        break\n",
    "    print(i)\n",
    "    i+=1"
   ]
  },
  {
   "cell_type": "markdown",
   "id": "amateur-wrist",
   "metadata": {},
   "source": [
    "3. In the loop, when i is 3, jump directly to the next iteration. "
   ]
  },
  {
   "cell_type": "code",
   "execution_count": 94,
   "id": "cloudy-affairs",
   "metadata": {},
   "outputs": [
    {
     "name": "stdout",
     "output_type": "stream",
     "text": [
      "0\n",
      "1\n",
      "2\n",
      "4\n",
      "5\n",
      "6\n",
      "7\n",
      "8\n",
      "9\n"
     ]
    }
   ],
   "source": [
    "# first answer\n",
    "i=0\n",
    "while i<10:\n",
    "    if i!=3:\n",
    "        print(i)\n",
    "    i+=1"
   ]
  },
  {
   "cell_type": "markdown",
   "id": "motivated-circulation",
   "metadata": {},
   "source": [
    "4. Print a message once the condition is false"
   ]
  },
  {
   "cell_type": "code",
   "execution_count": 97,
   "id": "checked-hands",
   "metadata": {},
   "outputs": [],
   "source": [
    "i=0\n",
    "while i==6:\n",
    "    # print(\"Text1 -> Condition is false i =\" + str(i))\n",
    "    print(i)\n",
    "    i+=1\n",
    "    if i==6:\n",
    "        print(\"Text2 -> Condition is false i=\" + str(i))\n",
    "    "
   ]
  },
  {
   "cell_type": "code",
   "execution_count": 99,
   "id": "f18909f7",
   "metadata": {},
   "outputs": [
    {
     "name": "stdout",
     "output_type": "stream",
     "text": [
      "0\n",
      "1\n",
      "2\n",
      "3\n",
      "4\n",
      "5\n",
      "i is no longer less than 6\n"
     ]
    }
   ],
   "source": [
    "i=0\n",
    "while i<6:\n",
    "    print(i)\n",
    "    i+=1\n",
    "else:\n",
    "    print(\"i is no longer less than 6\")"
   ]
  },
  {
   "cell_type": "markdown",
   "id": "given-renaissance",
   "metadata": {},
   "source": [
    "# Mathematical Function"
   ]
  },
  {
   "cell_type": "markdown",
   "id": "british-update",
   "metadata": {},
   "source": [
    "### Built-in Math Functions\n",
    "\n",
    "1. Find the lowest value of the 3 numbers (5, 10, 25)"
   ]
  },
  {
   "cell_type": "code",
   "execution_count": 135,
   "id": "supreme-scanner",
   "metadata": {},
   "outputs": [
    {
     "name": "stdout",
     "output_type": "stream",
     "text": [
      "Lowest value is 5\n"
     ]
    }
   ],
   "source": [
    "list = [5, 10, 25]\n",
    "list.sort()\n",
    "print(\"Lowest value is\", list[0])"
   ]
  },
  {
   "cell_type": "markdown",
   "id": "quantitative-lemon",
   "metadata": {},
   "source": [
    "2. Find the number that has the highest value (5, 10, 25)"
   ]
  },
  {
   "cell_type": "code",
   "execution_count": 137,
   "id": "unable-transition",
   "metadata": {},
   "outputs": [
    {
     "name": "stdout",
     "output_type": "stream",
     "text": [
      "highest value is 25\n"
     ]
    }
   ],
   "source": [
    "print(\"highest value is\", list[-1])"
   ]
  },
  {
   "cell_type": "markdown",
   "id": "dental-exposure",
   "metadata": {},
   "source": [
    "3. Find the absolute value of the number -7.25"
   ]
  },
  {
   "cell_type": "code",
   "execution_count": 139,
   "id": "chicken-bryan",
   "metadata": {},
   "outputs": [
    {
     "name": "stdout",
     "output_type": "stream",
     "text": [
      "7.25\n"
     ]
    }
   ],
   "source": [
    "x=abs(-7.25)\n",
    "print(x)"
   ]
  },
  {
   "cell_type": "markdown",
   "id": "aerial-portuguese",
   "metadata": {},
   "source": [
    "4. Find the value of x to the power of y. (x = 4, y =3)"
   ]
  },
  {
   "cell_type": "code",
   "execution_count": 142,
   "id": "tamil-growth",
   "metadata": {},
   "outputs": [
    {
     "name": "stdout",
     "output_type": "stream",
     "text": [
      "64\n"
     ]
    }
   ],
   "source": [
    "x=4\n",
    "y=3\n",
    "\n",
    "x= pow(x,y)\n",
    "print(x)"
   ]
  },
  {
   "cell_type": "markdown",
   "id": "revolutionary-mixture",
   "metadata": {},
   "source": [
    "### The Math Module\n",
    "1. Find the square root of 64"
   ]
  },
  {
   "cell_type": "code",
   "execution_count": 100,
   "id": "occasional-democracy",
   "metadata": {},
   "outputs": [
    {
     "data": {
      "text/plain": [
       "8.0"
      ]
     },
     "execution_count": 100,
     "metadata": {},
     "output_type": "execute_result"
    }
   ],
   "source": [
    "import math\n",
    "math.sqrt(64)"
   ]
  },
  {
   "cell_type": "markdown",
   "id": "chicken-activation",
   "metadata": {},
   "source": [
    "2. Round upwards the number 1.4 to the nearest integer"
   ]
  },
  {
   "cell_type": "code",
   "execution_count": 101,
   "id": "bridal-robinson",
   "metadata": {},
   "outputs": [
    {
     "data": {
      "text/plain": [
       "2"
      ]
     },
     "execution_count": 101,
     "metadata": {},
     "output_type": "execute_result"
    }
   ],
   "source": [
    "math.ceil(1.4)"
   ]
  },
  {
   "cell_type": "markdown",
   "id": "dedicated-subscription",
   "metadata": {},
   "source": [
    "3. Round downwards the number 1.4 to the nearest integer"
   ]
  },
  {
   "cell_type": "code",
   "execution_count": 102,
   "id": "rough-boundary",
   "metadata": {},
   "outputs": [
    {
     "data": {
      "text/plain": [
       "1"
      ]
     },
     "execution_count": 102,
     "metadata": {},
     "output_type": "execute_result"
    }
   ],
   "source": [
    "math.floor(1.4)"
   ]
  },
  {
   "cell_type": "markdown",
   "id": "minor-hardware",
   "metadata": {},
   "source": [
    "4. Print the value of pi using the math module"
   ]
  },
  {
   "cell_type": "code",
   "execution_count": 103,
   "id": "determined-swaziland",
   "metadata": {},
   "outputs": [
    {
     "name": "stdout",
     "output_type": "stream",
     "text": [
      "3.141592653589793\n"
     ]
    }
   ],
   "source": [
    "print(math.pi)"
   ]
  },
  {
   "cell_type": "code",
   "execution_count": 104,
   "metadata": {},
   "outputs": [
    {
     "name": "stdout",
     "output_type": "stream",
     "text": [
      "-21.858407346410207\n"
     ]
    }
   ],
   "source": [
    "# to calculate area of circle\n",
    "Area_of_circle = math.pi-pow (5,2)\n",
    "print(Area_of_circle)"
   ]
  },
  {
   "cell_type": "markdown",
   "id": "coordinate-declaration",
   "metadata": {},
   "source": [
    "# Generating Random Numbers"
   ]
  },
  {
   "cell_type": "markdown",
   "id": "systematic-cleaning",
   "metadata": {},
   "source": [
    "1. Print a random number between the value 0 and 1 "
   ]
  },
  {
   "cell_type": "code",
   "execution_count": 105,
   "id": "affiliated-interview",
   "metadata": {},
   "outputs": [
    {
     "name": "stdout",
     "output_type": "stream",
     "text": [
      "0.9262471143717605\n"
     ]
    }
   ],
   "source": [
    "import random\n",
    "print(random.random())"
   ]
  },
  {
   "cell_type": "markdown",
   "id": "after-nightmare",
   "metadata": {},
   "source": [
    "2. Print a random integer between the value 1 and 50"
   ]
  },
  {
   "cell_type": "code",
   "execution_count": 107,
   "id": "trying-fiber",
   "metadata": {},
   "outputs": [
    {
     "name": "stdout",
     "output_type": "stream",
     "text": [
      "45\n"
     ]
    }
   ],
   "source": [
    "print(random.randint(1,50))"
   ]
  },
  {
   "cell_type": "markdown",
   "id": "handmade-orleans",
   "metadata": {},
   "source": [
    "3. Print a random float value between 0 and 50"
   ]
  },
  {
   "cell_type": "code",
   "execution_count": 108,
   "id": "seasonal-front",
   "metadata": {},
   "outputs": [
    {
     "name": "stdout",
     "output_type": "stream",
     "text": [
      "3.510852595719821\n"
     ]
    }
   ],
   "source": [
    "print(random.uniform(0,50))"
   ]
  },
  {
   "cell_type": "code",
   "execution_count": null,
   "id": "structural-airport",
   "metadata": {},
   "outputs": [],
   "source": []
  }
 ],
 "metadata": {
  "kernelspec": {
   "display_name": "Python 3.10.5 64-bit",
   "language": "python",
   "name": "python3"
  },
  "language_info": {
   "codemirror_mode": {
    "name": "ipython",
    "version": 3
   },
   "file_extension": ".py",
   "mimetype": "text/x-python",
   "name": "python",
   "nbconvert_exporter": "python",
   "pygments_lexer": "ipython3",
   "version": "3.10.5"
  },
  "vscode": {
   "interpreter": {
    "hash": "0d72b21489300652f2337cd7f80c57cc00ce6bbc92cf98d285c178d0a8ced433"
   }
  }
 },
 "nbformat": 4,
 "nbformat_minor": 5
}
